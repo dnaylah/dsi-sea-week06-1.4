{
 "cells": [
  {
   "cell_type": "markdown",
   "metadata": {
    "button": false,
    "deletable": true,
    "new_sheet": false,
    "run_control": {
     "read_only": false
    }
   },
   "source": [
    "# APIs Lab\n",
    "In this lab we will practice using APIs to retrieve and store data."
   ]
  },
  {
   "cell_type": "code",
   "execution_count": 2,
   "metadata": {
    "button": false,
    "collapsed": false,
    "deletable": true,
    "new_sheet": false,
    "run_control": {
     "read_only": false
    }
   },
   "outputs": [],
   "source": [
    "# Imports at the top\n",
    "import json\n",
    "import urllib\n",
    "import pandas as pd\n",
    "import numpy as np\n",
    "import requests\n",
    "import json\n",
    "import re\n",
    "import matplotlib.pyplot as plt\n",
    "%matplotlib inline\n",
    "\n",
    "import urllib2\n",
    "from bs4 import BeautifulSoup"
   ]
  },
  {
   "cell_type": "markdown",
   "metadata": {
    "button": false,
    "deletable": true,
    "new_sheet": false,
    "run_control": {
     "read_only": false
    }
   },
   "source": [
    "## Exercise 1: IMDB Movies\n",
    "\n",
    "Sometimes an API doesn't provide all the information we would like to get and we need to be creative.\n",
    "Here we will use a combination of scraping and API calls to investigate the ratings and gross earnings of famous movies."
   ]
  },
  {
   "cell_type": "markdown",
   "metadata": {
    "button": false,
    "collapsed": true,
    "deletable": true,
    "new_sheet": false,
    "run_control": {
     "read_only": false
    }
   },
   "source": [
    "## 1.a Get top movies\n",
    "\n",
    "The Internet Movie Database contains data about movies. Unfortunately it does not have a public API.\n",
    "\n",
    "The page http://www.imdb.com/chart/top contains the list of the top 250 movies of all times. Retrieve the page using the requests library and then parse the html to obtain a list of the `movie_ids` for these movies. You can parse it with regular expression or using a library like `BeautifulSoup`.\n",
    "\n",
    "**Hint:** movie_ids look like this: `tt2582802`"
   ]
  },
  {
   "cell_type": "code",
   "execution_count": 3,
   "metadata": {
    "collapsed": false
   },
   "outputs": [
    {
     "name": "stderr",
     "output_type": "stream",
     "text": [
      "/Users/dnay/anaconda/lib/python2.7/site-packages/bs4/__init__.py:181: UserWarning: No parser was explicitly specified, so I'm using the best available HTML parser for this system (\"lxml\"). This usually isn't a problem, but if you run this code on another system, or in a different virtual environment, it may use a different parser and behave differently.\n",
      "\n",
      "The code that caused this warning is on line 174 of the file /Users/dnay/anaconda/lib/python2.7/runpy.py. To get rid of this warning, change code that looks like this:\n",
      "\n",
      " BeautifulSoup([your markup])\n",
      "\n",
      "to this:\n",
      "\n",
      " BeautifulSoup([your markup], \"lxml\")\n",
      "\n",
      "  markup_type=markup_type))\n"
     ]
    }
   ],
   "source": [
    "#get website information\n",
    "soup = BeautifulSoup(urllib2.urlopen('http://www.imdb.com/chart/top'))"
   ]
  },
  {
   "cell_type": "code",
   "execution_count": 4,
   "metadata": {
    "collapsed": false
   },
   "outputs": [],
   "source": [
    "#grab table that holds all the movie info\n",
    "table = soup.find_all('tbody', class_='lister-list')"
   ]
  },
  {
   "cell_type": "code",
   "execution_count": 5,
   "metadata": {
    "collapsed": true
   },
   "outputs": [],
   "source": [
    "#make empty list to hold all the info\n",
    "movie_ids = []"
   ]
  },
  {
   "cell_type": "code",
   "execution_count": 6,
   "metadata": {
    "collapsed": false
   },
   "outputs": [],
   "source": [
    "for id1, row in enumerate(table):\n",
    "    #finding all poster images\n",
    "    for id2, hello in enumerate(row.find_all('td', class_='posterColumn')):\n",
    "        #print img['src']\n",
    "        for id3, a in enumerate(hello.find_all('a')):\n",
    "            movie_ids.append(a['href'].split(\"/\")[2])\n",
    "        "
   ]
  },
  {
   "cell_type": "markdown",
   "metadata": {
    "button": false,
    "deletable": true,
    "new_sheet": false,
    "run_control": {
     "read_only": false
    }
   },
   "source": [
    "## 1.b Get top movies data\n",
    "\n",
    "Although the Internet Movie Database does not have a public API, an open API exists at http://www.omdbapi.com.\n",
    "\n",
    "Use this API to retrieve information about each of the 250 movies you have extracted in the previous step.\n",
    "- Check the documentation of omdbapi.com to learn how to request movie data by id\n",
    "- Define a function that returns a python object with all the information for a given id\n",
    "- Iterate on all the IDs and store the results in a list of such objects\n",
    "- Create a Pandas Dataframe from the list"
   ]
  },
  {
   "cell_type": "code",
   "execution_count": 7,
   "metadata": {
    "collapsed": true
   },
   "outputs": [],
   "source": [
    "movvvies = []"
   ]
  },
  {
   "cell_type": "code",
   "execution_count": 8,
   "metadata": {
    "button": false,
    "collapsed": false,
    "deletable": true,
    "new_sheet": false,
    "run_control": {
     "read_only": false
    }
   },
   "outputs": [],
   "source": [
    "#for i in movie_ids:\n",
    "def movie_info():\n",
    "    for i in movie_ids:\n",
    "        q = urllib.urlopen('http://www.omdbapi.com/?i='+i+'&plot=short&r=json').read()\n",
    "        moviee = json.loads(q)\n",
    "        movvvies.append(moviee)\n",
    "    #return urllib.urlopen('http://www.omdbapi.com/?i='+id+'&plot=short&r=json').read()\n",
    "movie_info()"
   ]
  },
  {
   "cell_type": "code",
   "execution_count": 9,
   "metadata": {
    "collapsed": false
   },
   "outputs": [],
   "source": [
    "DFmovie = pd.DataFrame(movvvies)"
   ]
  },
  {
   "cell_type": "code",
   "execution_count": 10,
   "metadata": {
    "collapsed": true
   },
   "outputs": [],
   "source": [
    "# rated = \"NOT RATED\"\n",
    "# metascore: \"N/A\""
   ]
  },
  {
   "cell_type": "markdown",
   "metadata": {
    "button": false,
    "deletable": true,
    "new_sheet": false,
    "run_control": {
     "read_only": false
    }
   },
   "source": [
    "## 1.c Get gross data\n",
    "\n",
    "The OMDB API is great, but it does not provide information about Gross Revenue of the movie. We'll revert back to scraping for this.\n",
    "\n",
    "- Write a function that retrieves the gross revenue from the entry page at imdb.com\n",
    "- The function should handle the exception of when the page doesn't report gross revenue\n",
    "- Retrieve the gross revenue for each movie and store it in a separate dataframe"
   ]
  },
  {
   "cell_type": "code",
   "execution_count": null,
   "metadata": {
    "collapsed": true
   },
   "outputs": [],
   "source": []
  },
  {
   "cell_type": "code",
   "execution_count": 11,
   "metadata": {
    "button": false,
    "collapsed": false,
    "deletable": true,
    "new_sheet": false,
    "run_control": {
     "read_only": false
    }
   },
   "outputs": [],
   "source": [
    "base = 'http://www.imdb.com'\n",
    "stuff_with_gross = []\n",
    "#it will restart at table every time\n",
    "for id1, row in enumerate(table):\n",
    "    #this is to find all the links that we'll want\n",
    "    for id2, td in enumerate(row.find_all('td', class_='titleColumn')):\n",
    "        found = False\n",
    "        #this is where we are grabbing the next link from\n",
    "        for id3, a in enumerate(td.find_all('a')):\n",
    "            new_link = base + a['href']\n",
    "            #print new_link\n",
    "            soup1 = BeautifulSoup(urllib2.urlopen(new_link, \"lxml\").read())\n",
    "            for id4, p1 in enumerate(soup1.find_all('div', class_='txt-block')):\n",
    "                if 'Gross' in p1.text:\n",
    "                    #print p1\n",
    "                    x = p1.text.split(\"$\")[1].split(\" \")[0]\n",
    "                    x.replace(\",\",\"\")\n",
    "                    stuff_with_gross.append(x)\n",
    "                    found = True\n",
    "        if not found:\n",
    "            stuff_with_gross.append(0.0)"
   ]
  },
  {
   "cell_type": "code",
   "execution_count": null,
   "metadata": {
    "collapsed": false
   },
   "outputs": [],
   "source": []
  },
  {
   "cell_type": "markdown",
   "metadata": {
    "button": false,
    "deletable": true,
    "new_sheet": false,
    "run_control": {
     "read_only": false
    }
   },
   "source": [
    "## 1.d Data munging\n",
    "\n",
    "- Now that you have movie information and gross revenue information, let's clean the two datasets.\n",
    "- Check if there are null values. Be careful they may appear to be valid strings.\n",
    "- Convert the columns to the appropriate formats. In particular handle:\n",
    "    - Released\n",
    "    - Runtime\n",
    "    - year\n",
    "    - imdbRating\n",
    "    - imdbVotes\n",
    "- Merge the data from the two datasets into a single one"
   ]
  },
  {
   "cell_type": "code",
   "execution_count": 12,
   "metadata": {
    "collapsed": false
   },
   "outputs": [
    {
     "data": {
      "text/html": [
       "<div>\n",
       "<table border=\"1\" class=\"dataframe\">\n",
       "  <thead>\n",
       "    <tr style=\"text-align: right;\">\n",
       "      <th></th>\n",
       "      <th>Actors</th>\n",
       "      <th>Awards</th>\n",
       "      <th>Country</th>\n",
       "      <th>Director</th>\n",
       "      <th>Genre</th>\n",
       "      <th>Language</th>\n",
       "      <th>Metascore</th>\n",
       "      <th>Plot</th>\n",
       "      <th>Poster</th>\n",
       "      <th>Rated</th>\n",
       "      <th>...</th>\n",
       "      <th>Response</th>\n",
       "      <th>Runtime</th>\n",
       "      <th>Title</th>\n",
       "      <th>Type</th>\n",
       "      <th>Writer</th>\n",
       "      <th>Year</th>\n",
       "      <th>imdbID</th>\n",
       "      <th>imdbRating</th>\n",
       "      <th>imdbVotes</th>\n",
       "      <th>Gross</th>\n",
       "    </tr>\n",
       "  </thead>\n",
       "  <tbody>\n",
       "    <tr>\n",
       "      <th>0</th>\n",
       "      <td>Tim Robbins, Morgan Freeman, Bob Gunton, Willi...</td>\n",
       "      <td>Nominated for 7 Oscars. Another 18 wins &amp; 30 n...</td>\n",
       "      <td>USA</td>\n",
       "      <td>Frank Darabont</td>\n",
       "      <td>Crime, Drama</td>\n",
       "      <td>English</td>\n",
       "      <td>80</td>\n",
       "      <td>Two imprisoned men bond over a number of years...</td>\n",
       "      <td>https://images-na.ssl-images-amazon.com/images...</td>\n",
       "      <td>R</td>\n",
       "      <td>...</td>\n",
       "      <td>True</td>\n",
       "      <td>142 min</td>\n",
       "      <td>The Shawshank Redemption</td>\n",
       "      <td>movie</td>\n",
       "      <td>Stephen King (short story \"Rita Hayworth and S...</td>\n",
       "      <td>1994</td>\n",
       "      <td>tt0111161</td>\n",
       "      <td>9.3</td>\n",
       "      <td>1,711,064</td>\n",
       "      <td>28,341,469</td>\n",
       "    </tr>\n",
       "    <tr>\n",
       "      <th>1</th>\n",
       "      <td>Marlon Brando, Al Pacino, James Caan, Richard ...</td>\n",
       "      <td>Won 3 Oscars. Another 23 wins &amp; 27 nominations.</td>\n",
       "      <td>USA</td>\n",
       "      <td>Francis Ford Coppola</td>\n",
       "      <td>Crime, Drama</td>\n",
       "      <td>English, Italian, Latin</td>\n",
       "      <td>100</td>\n",
       "      <td>The aging patriarch of an organized crime dyna...</td>\n",
       "      <td>https://images-na.ssl-images-amazon.com/images...</td>\n",
       "      <td>R</td>\n",
       "      <td>...</td>\n",
       "      <td>True</td>\n",
       "      <td>175 min</td>\n",
       "      <td>The Godfather</td>\n",
       "      <td>movie</td>\n",
       "      <td>Mario Puzo (screenplay), Francis Ford Coppola ...</td>\n",
       "      <td>1972</td>\n",
       "      <td>tt0068646</td>\n",
       "      <td>9.2</td>\n",
       "      <td>1,177,812</td>\n",
       "      <td>134,821,952</td>\n",
       "    </tr>\n",
       "    <tr>\n",
       "      <th>2</th>\n",
       "      <td>Al Pacino, Robert Duvall, Diane Keaton, Robert...</td>\n",
       "      <td>Won 6 Oscars. Another 10 wins &amp; 20 nominations.</td>\n",
       "      <td>USA</td>\n",
       "      <td>Francis Ford Coppola</td>\n",
       "      <td>Crime, Drama</td>\n",
       "      <td>English, Italian, Spanish, Latin, Sicilian</td>\n",
       "      <td>80</td>\n",
       "      <td>The early life and career of Vito Corleone in ...</td>\n",
       "      <td>https://images-na.ssl-images-amazon.com/images...</td>\n",
       "      <td>R</td>\n",
       "      <td>...</td>\n",
       "      <td>True</td>\n",
       "      <td>202 min</td>\n",
       "      <td>The Godfather: Part II</td>\n",
       "      <td>movie</td>\n",
       "      <td>Francis Ford Coppola (screenplay), Mario Puzo ...</td>\n",
       "      <td>1974</td>\n",
       "      <td>tt0071562</td>\n",
       "      <td>9.0</td>\n",
       "      <td>807,734</td>\n",
       "      <td>57,300,000</td>\n",
       "    </tr>\n",
       "    <tr>\n",
       "      <th>3</th>\n",
       "      <td>Christian Bale, Heath Ledger, Aaron Eckhart, M...</td>\n",
       "      <td>Won 2 Oscars. Another 146 wins &amp; 142 nominations.</td>\n",
       "      <td>USA, UK</td>\n",
       "      <td>Christopher Nolan</td>\n",
       "      <td>Action, Crime, Drama</td>\n",
       "      <td>English, Mandarin</td>\n",
       "      <td>82</td>\n",
       "      <td>When the menace known as the Joker wreaks havo...</td>\n",
       "      <td>https://images-na.ssl-images-amazon.com/images...</td>\n",
       "      <td>PG-13</td>\n",
       "      <td>...</td>\n",
       "      <td>True</td>\n",
       "      <td>152 min</td>\n",
       "      <td>The Dark Knight</td>\n",
       "      <td>movie</td>\n",
       "      <td>Jonathan Nolan (screenplay), Christopher Nolan...</td>\n",
       "      <td>2008</td>\n",
       "      <td>tt0468569</td>\n",
       "      <td>9.0</td>\n",
       "      <td>1,699,835</td>\n",
       "      <td>533,316,061</td>\n",
       "    </tr>\n",
       "    <tr>\n",
       "      <th>4</th>\n",
       "      <td>Martin Balsam, John Fiedler, Lee J. Cobb, E.G....</td>\n",
       "      <td>Nominated for 3 Oscars. Another 16 wins &amp; 8 no...</td>\n",
       "      <td>USA</td>\n",
       "      <td>Sidney Lumet</td>\n",
       "      <td>Crime, Drama</td>\n",
       "      <td>English</td>\n",
       "      <td>N/A</td>\n",
       "      <td>A jury holdout attempts to prevent a miscarria...</td>\n",
       "      <td>https://images-na.ssl-images-amazon.com/images...</td>\n",
       "      <td>APPROVED</td>\n",
       "      <td>...</td>\n",
       "      <td>True</td>\n",
       "      <td>96 min</td>\n",
       "      <td>12 Angry Men</td>\n",
       "      <td>movie</td>\n",
       "      <td>Reginald Rose (story), Reginald Rose (screenplay)</td>\n",
       "      <td>1957</td>\n",
       "      <td>tt0050083</td>\n",
       "      <td>8.9</td>\n",
       "      <td>455,987</td>\n",
       "      <td>0</td>\n",
       "    </tr>\n",
       "  </tbody>\n",
       "</table>\n",
       "<p>5 rows × 21 columns</p>\n",
       "</div>"
      ],
      "text/plain": [
       "                                              Actors  \\\n",
       "0  Tim Robbins, Morgan Freeman, Bob Gunton, Willi...   \n",
       "1  Marlon Brando, Al Pacino, James Caan, Richard ...   \n",
       "2  Al Pacino, Robert Duvall, Diane Keaton, Robert...   \n",
       "3  Christian Bale, Heath Ledger, Aaron Eckhart, M...   \n",
       "4  Martin Balsam, John Fiedler, Lee J. Cobb, E.G....   \n",
       "\n",
       "                                              Awards  Country  \\\n",
       "0  Nominated for 7 Oscars. Another 18 wins & 30 n...      USA   \n",
       "1    Won 3 Oscars. Another 23 wins & 27 nominations.      USA   \n",
       "2    Won 6 Oscars. Another 10 wins & 20 nominations.      USA   \n",
       "3  Won 2 Oscars. Another 146 wins & 142 nominations.  USA, UK   \n",
       "4  Nominated for 3 Oscars. Another 16 wins & 8 no...      USA   \n",
       "\n",
       "               Director                 Genre  \\\n",
       "0        Frank Darabont          Crime, Drama   \n",
       "1  Francis Ford Coppola          Crime, Drama   \n",
       "2  Francis Ford Coppola          Crime, Drama   \n",
       "3     Christopher Nolan  Action, Crime, Drama   \n",
       "4          Sidney Lumet          Crime, Drama   \n",
       "\n",
       "                                     Language Metascore  \\\n",
       "0                                     English        80   \n",
       "1                     English, Italian, Latin       100   \n",
       "2  English, Italian, Spanish, Latin, Sicilian        80   \n",
       "3                           English, Mandarin        82   \n",
       "4                                     English       N/A   \n",
       "\n",
       "                                                Plot  \\\n",
       "0  Two imprisoned men bond over a number of years...   \n",
       "1  The aging patriarch of an organized crime dyna...   \n",
       "2  The early life and career of Vito Corleone in ...   \n",
       "3  When the menace known as the Joker wreaks havo...   \n",
       "4  A jury holdout attempts to prevent a miscarria...   \n",
       "\n",
       "                                              Poster     Rated     ...       \\\n",
       "0  https://images-na.ssl-images-amazon.com/images...         R     ...        \n",
       "1  https://images-na.ssl-images-amazon.com/images...         R     ...        \n",
       "2  https://images-na.ssl-images-amazon.com/images...         R     ...        \n",
       "3  https://images-na.ssl-images-amazon.com/images...     PG-13     ...        \n",
       "4  https://images-na.ssl-images-amazon.com/images...  APPROVED     ...        \n",
       "\n",
       "  Response  Runtime                     Title   Type  \\\n",
       "0     True  142 min  The Shawshank Redemption  movie   \n",
       "1     True  175 min             The Godfather  movie   \n",
       "2     True  202 min    The Godfather: Part II  movie   \n",
       "3     True  152 min           The Dark Knight  movie   \n",
       "4     True   96 min              12 Angry Men  movie   \n",
       "\n",
       "                                              Writer  Year     imdbID  \\\n",
       "0  Stephen King (short story \"Rita Hayworth and S...  1994  tt0111161   \n",
       "1  Mario Puzo (screenplay), Francis Ford Coppola ...  1972  tt0068646   \n",
       "2  Francis Ford Coppola (screenplay), Mario Puzo ...  1974  tt0071562   \n",
       "3  Jonathan Nolan (screenplay), Christopher Nolan...  2008  tt0468569   \n",
       "4  Reginald Rose (story), Reginald Rose (screenplay)  1957  tt0050083   \n",
       "\n",
       "  imdbRating  imdbVotes        Gross  \n",
       "0        9.3  1,711,064   28,341,469  \n",
       "1        9.2  1,177,812  134,821,952  \n",
       "2        9.0    807,734   57,300,000  \n",
       "3        9.0  1,699,835  533,316,061  \n",
       "4        8.9    455,987            0  \n",
       "\n",
       "[5 rows x 21 columns]"
      ]
     },
     "execution_count": 12,
     "metadata": {},
     "output_type": "execute_result"
    }
   ],
   "source": [
    "#add gross totals to dataframe\n",
    "DFmovie['Gross'] = stuff_with_gross\n",
    "DFmovie.head()"
   ]
  },
  {
   "cell_type": "code",
   "execution_count": 13,
   "metadata": {
    "button": false,
    "collapsed": false,
    "deletable": true,
    "new_sheet": false,
    "run_control": {
     "read_only": false
    }
   },
   "outputs": [],
   "source": [
    "#clean up metascore and rated\n",
    "total = 0\n",
    "count = 0\n",
    "for i in DFmovie['Metascore']:\n",
    "    try:\n",
    "        i = int(i)\n",
    "        total += i\n",
    "        count += 1\n",
    "    except:\n",
    "        continue\n",
    "avg =  float(total) / count    \n",
    "DFmovie['Metascore'] = [str(x) for x in DFmovie['Metascore']]    \n",
    "DFmovie['Metascore'] = [x.replace(\"N/A\", str(avg)) for x in DFmovie['Metascore']]"
   ]
  },
  {
   "cell_type": "code",
   "execution_count": 14,
   "metadata": {
    "collapsed": false
   },
   "outputs": [],
   "source": [
    "#convert types\n",
    "DFmovie['Metascore'] = pd.to_numeric(DFmovie['Metascore'])"
   ]
  },
  {
   "cell_type": "code",
   "execution_count": 15,
   "metadata": {
    "collapsed": false
   },
   "outputs": [
    {
     "data": {
      "text/plain": [
       "R            103\n",
       "PG            38\n",
       "PG-13         31\n",
       "NOT RATED     25\n",
       "APPROVED      20\n",
       "G             12\n",
       "UNRATED       10\n",
       "PASSED         6\n",
       "N/A            4\n",
       "M              1\n",
       "Name: Rated, dtype: int64"
      ]
     },
     "execution_count": 15,
     "metadata": {},
     "output_type": "execute_result"
    }
   ],
   "source": [
    "DFmovie['Rated'].value_counts()"
   ]
  },
  {
   "cell_type": "code",
   "execution_count": 16,
   "metadata": {
    "collapsed": true
   },
   "outputs": [],
   "source": [
    "#convert to strings\n",
    "DFmovie['Rated'] = [str(x) for x in DFmovie['Rated']]  "
   ]
  },
  {
   "cell_type": "code",
   "execution_count": 17,
   "metadata": {
    "collapsed": false
   },
   "outputs": [],
   "source": [
    "#change N/A to Not Rated\n",
    "DFmovie['Rated'] = [x.replace(\"N/A\", \"Not Rated\") for x in DFmovie['Rated']]"
   ]
  },
  {
   "cell_type": "code",
   "execution_count": 18,
   "metadata": {
    "collapsed": true
   },
   "outputs": [],
   "source": [
    "#remove \"min\" from runtime\n",
    "DFmovie['Runtime'] = [x.replace(\"min\",\"\").strip() for x in DFmovie['Runtime']]"
   ]
  },
  {
   "cell_type": "code",
   "execution_count": 19,
   "metadata": {
    "collapsed": false
   },
   "outputs": [
    {
     "name": "stderr",
     "output_type": "stream",
     "text": [
      "/Users/dnay/anaconda/lib/python2.7/site-packages/ipykernel/__main__.py:2: SettingWithCopyWarning: \n",
      "A value is trying to be set on a copy of a slice from a DataFrame.\n",
      "Try using .loc[row_indexer,col_indexer] = value instead\n",
      "\n",
      "See the caveats in the documentation: http://pandas.pydata.org/pandas-docs/stable/indexing.html#indexing-view-versus-copy\n",
      "  from ipykernel import kernelapp as app\n"
     ]
    }
   ],
   "source": [
    "#Deal with N/A in released\n",
    "DFmovie[DFmovie['Released'] == 'N/A']['Released'] = \"01 Jan 1925\""
   ]
  },
  {
   "cell_type": "code",
   "execution_count": 30,
   "metadata": {
    "collapsed": false
   },
   "outputs": [
    {
     "data": {
      "text/html": [
       "<div>\n",
       "<table border=\"1\" class=\"dataframe\">\n",
       "  <thead>\n",
       "    <tr style=\"text-align: right;\">\n",
       "      <th></th>\n",
       "      <th>Actors</th>\n",
       "      <th>Awards</th>\n",
       "      <th>Country</th>\n",
       "      <th>Director</th>\n",
       "      <th>Genre</th>\n",
       "      <th>Language</th>\n",
       "      <th>Metascore</th>\n",
       "      <th>Plot</th>\n",
       "      <th>Poster</th>\n",
       "      <th>Rated</th>\n",
       "      <th>...</th>\n",
       "      <th>Response</th>\n",
       "      <th>Runtime</th>\n",
       "      <th>Title</th>\n",
       "      <th>Type</th>\n",
       "      <th>Writer</th>\n",
       "      <th>Year</th>\n",
       "      <th>imdbID</th>\n",
       "      <th>imdbRating</th>\n",
       "      <th>imdbVotes</th>\n",
       "      <th>Gross</th>\n",
       "    </tr>\n",
       "  </thead>\n",
       "  <tbody>\n",
       "  </tbody>\n",
       "</table>\n",
       "<p>0 rows × 21 columns</p>\n",
       "</div>"
      ],
      "text/plain": [
       "Empty DataFrame\n",
       "Columns: [Actors, Awards, Country, Director, Genre, Language, Metascore, Plot, Poster, Rated, Released, Response, Runtime, Title, Type, Writer, Year, imdbID, imdbRating, imdbVotes, Gross]\n",
       "Index: []\n",
       "\n",
       "[0 rows x 21 columns]"
      ]
     },
     "execution_count": 30,
     "metadata": {},
     "output_type": "execute_result"
    }
   ],
   "source": [
    "#N/A is at index 135\n",
    "DFmovie.loc[135,'Released'] = \"01 Jan 1925\""
   ]
  },
  {
   "cell_type": "code",
   "execution_count": 21,
   "metadata": {
    "collapsed": false
   },
   "outputs": [],
   "source": [
    "# replace commas\n",
    "DFmovie['imdbVotes'] = [x.replace(\",\", \"\") for x in DFmovie['imdbVotes']]"
   ]
  },
  {
   "cell_type": "code",
   "execution_count": 31,
   "metadata": {
    "collapsed": false
   },
   "outputs": [],
   "source": [
    "DFmovie['Released'] = pd.to_datetime(DFmovie['Released'], format='%d %b %Y')"
   ]
  },
  {
   "cell_type": "code",
   "execution_count": 23,
   "metadata": {
    "collapsed": false
   },
   "outputs": [],
   "source": [
    "DFmovie['Runtime'] = pd.to_numeric(DFmovie['Runtime'])\n",
    "DFmovie['Year'] = pd.to_numeric(DFmovie['Year'])\n",
    "DFmovie['imdbRating'] = pd.to_numeric(DFmovie['imdbRating'])\n",
    "DFmovie['imdbVotes'] = pd.to_numeric(DFmovie['imdbVotes'])"
   ]
  },
  {
   "cell_type": "code",
   "execution_count": 24,
   "metadata": {
    "collapsed": false
   },
   "outputs": [],
   "source": [
    "# replace commas\n",
    "DFmovie['Gross'] = [str(x).replace(\",\", \"\") for x in DFmovie['Gross']]\n",
    "DFmovie['Gross'] = pd.to_numeric(DFmovie['Gross'])"
   ]
  },
  {
   "cell_type": "code",
   "execution_count": 32,
   "metadata": {
    "collapsed": false
   },
   "outputs": [],
   "source": [
    "#avg1 = sum(DFmovie[DFmovie['Gross'] != 0]['Gross']) / len(DFmovie[DFmovie['Gross'] != 0]['Gross'])\n",
    "# a = np.median(DFmovie[DFmovie['Gross'] != 0]['Gross'])\n",
    "# DFmovie['Gross'].replace(0, a)\n",
    "\n",
    "#replace with median is a better idea\n",
    "median = np.median(DFmovie[(DFmovie.Gross) != 0.0][\"Gross\"])\n",
    "\n",
    "DFmovie.loc[DFmovie.Gross == 0, 'Gross'] = median"
   ]
  },
  {
   "cell_type": "code",
   "execution_count": 33,
   "metadata": {
    "collapsed": false
   },
   "outputs": [
    {
     "data": {
      "text/html": [
       "<div>\n",
       "<table border=\"1\" class=\"dataframe\">\n",
       "  <thead>\n",
       "    <tr style=\"text-align: right;\">\n",
       "      <th></th>\n",
       "      <th>Actors</th>\n",
       "      <th>Awards</th>\n",
       "      <th>Country</th>\n",
       "      <th>Director</th>\n",
       "      <th>Genre</th>\n",
       "      <th>Language</th>\n",
       "      <th>Metascore</th>\n",
       "      <th>Plot</th>\n",
       "      <th>Poster</th>\n",
       "      <th>Rated</th>\n",
       "      <th>...</th>\n",
       "      <th>Response</th>\n",
       "      <th>Runtime</th>\n",
       "      <th>Title</th>\n",
       "      <th>Type</th>\n",
       "      <th>Writer</th>\n",
       "      <th>Year</th>\n",
       "      <th>imdbID</th>\n",
       "      <th>imdbRating</th>\n",
       "      <th>imdbVotes</th>\n",
       "      <th>Gross</th>\n",
       "    </tr>\n",
       "  </thead>\n",
       "  <tbody>\n",
       "    <tr>\n",
       "      <th>0</th>\n",
       "      <td>Tim Robbins, Morgan Freeman, Bob Gunton, Willi...</td>\n",
       "      <td>Nominated for 7 Oscars. Another 18 wins &amp; 30 n...</td>\n",
       "      <td>USA</td>\n",
       "      <td>Frank Darabont</td>\n",
       "      <td>Crime, Drama</td>\n",
       "      <td>English</td>\n",
       "      <td>80.00000</td>\n",
       "      <td>Two imprisoned men bond over a number of years...</td>\n",
       "      <td>https://images-na.ssl-images-amazon.com/images...</td>\n",
       "      <td>R</td>\n",
       "      <td>...</td>\n",
       "      <td>True</td>\n",
       "      <td>142</td>\n",
       "      <td>The Shawshank Redemption</td>\n",
       "      <td>movie</td>\n",
       "      <td>Stephen King (short story \"Rita Hayworth and S...</td>\n",
       "      <td>1994</td>\n",
       "      <td>tt0111161</td>\n",
       "      <td>9.3</td>\n",
       "      <td>1711064</td>\n",
       "      <td>28341469.0</td>\n",
       "    </tr>\n",
       "    <tr>\n",
       "      <th>1</th>\n",
       "      <td>Marlon Brando, Al Pacino, James Caan, Richard ...</td>\n",
       "      <td>Won 3 Oscars. Another 23 wins &amp; 27 nominations.</td>\n",
       "      <td>USA</td>\n",
       "      <td>Francis Ford Coppola</td>\n",
       "      <td>Crime, Drama</td>\n",
       "      <td>English, Italian, Latin</td>\n",
       "      <td>100.00000</td>\n",
       "      <td>The aging patriarch of an organized crime dyna...</td>\n",
       "      <td>https://images-na.ssl-images-amazon.com/images...</td>\n",
       "      <td>R</td>\n",
       "      <td>...</td>\n",
       "      <td>True</td>\n",
       "      <td>175</td>\n",
       "      <td>The Godfather</td>\n",
       "      <td>movie</td>\n",
       "      <td>Mario Puzo (screenplay), Francis Ford Coppola ...</td>\n",
       "      <td>1972</td>\n",
       "      <td>tt0068646</td>\n",
       "      <td>9.2</td>\n",
       "      <td>1177812</td>\n",
       "      <td>134821952.0</td>\n",
       "    </tr>\n",
       "    <tr>\n",
       "      <th>2</th>\n",
       "      <td>Al Pacino, Robert Duvall, Diane Keaton, Robert...</td>\n",
       "      <td>Won 6 Oscars. Another 10 wins &amp; 20 nominations.</td>\n",
       "      <td>USA</td>\n",
       "      <td>Francis Ford Coppola</td>\n",
       "      <td>Crime, Drama</td>\n",
       "      <td>English, Italian, Spanish, Latin, Sicilian</td>\n",
       "      <td>80.00000</td>\n",
       "      <td>The early life and career of Vito Corleone in ...</td>\n",
       "      <td>https://images-na.ssl-images-amazon.com/images...</td>\n",
       "      <td>R</td>\n",
       "      <td>...</td>\n",
       "      <td>True</td>\n",
       "      <td>202</td>\n",
       "      <td>The Godfather: Part II</td>\n",
       "      <td>movie</td>\n",
       "      <td>Francis Ford Coppola (screenplay), Mario Puzo ...</td>\n",
       "      <td>1974</td>\n",
       "      <td>tt0071562</td>\n",
       "      <td>9.0</td>\n",
       "      <td>807734</td>\n",
       "      <td>57300000.0</td>\n",
       "    </tr>\n",
       "    <tr>\n",
       "      <th>3</th>\n",
       "      <td>Christian Bale, Heath Ledger, Aaron Eckhart, M...</td>\n",
       "      <td>Won 2 Oscars. Another 146 wins &amp; 142 nominations.</td>\n",
       "      <td>USA, UK</td>\n",
       "      <td>Christopher Nolan</td>\n",
       "      <td>Action, Crime, Drama</td>\n",
       "      <td>English, Mandarin</td>\n",
       "      <td>82.00000</td>\n",
       "      <td>When the menace known as the Joker wreaks havo...</td>\n",
       "      <td>https://images-na.ssl-images-amazon.com/images...</td>\n",
       "      <td>PG-13</td>\n",
       "      <td>...</td>\n",
       "      <td>True</td>\n",
       "      <td>152</td>\n",
       "      <td>The Dark Knight</td>\n",
       "      <td>movie</td>\n",
       "      <td>Jonathan Nolan (screenplay), Christopher Nolan...</td>\n",
       "      <td>2008</td>\n",
       "      <td>tt0468569</td>\n",
       "      <td>9.0</td>\n",
       "      <td>1699835</td>\n",
       "      <td>533316061.0</td>\n",
       "    </tr>\n",
       "    <tr>\n",
       "      <th>4</th>\n",
       "      <td>Martin Balsam, John Fiedler, Lee J. Cobb, E.G....</td>\n",
       "      <td>Nominated for 3 Oscars. Another 16 wins &amp; 8 no...</td>\n",
       "      <td>USA</td>\n",
       "      <td>Sidney Lumet</td>\n",
       "      <td>Crime, Drama</td>\n",
       "      <td>English</td>\n",
       "      <td>79.95122</td>\n",
       "      <td>A jury holdout attempts to prevent a miscarria...</td>\n",
       "      <td>https://images-na.ssl-images-amazon.com/images...</td>\n",
       "      <td>APPROVED</td>\n",
       "      <td>...</td>\n",
       "      <td>True</td>\n",
       "      <td>96</td>\n",
       "      <td>12 Angry Men</td>\n",
       "      <td>movie</td>\n",
       "      <td>Reginald Rose (story), Reginald Rose (screenplay)</td>\n",
       "      <td>1957</td>\n",
       "      <td>tt0050083</td>\n",
       "      <td>8.9</td>\n",
       "      <td>455987</td>\n",
       "      <td>51600000.0</td>\n",
       "    </tr>\n",
       "  </tbody>\n",
       "</table>\n",
       "<p>5 rows × 21 columns</p>\n",
       "</div>"
      ],
      "text/plain": [
       "                                              Actors  \\\n",
       "0  Tim Robbins, Morgan Freeman, Bob Gunton, Willi...   \n",
       "1  Marlon Brando, Al Pacino, James Caan, Richard ...   \n",
       "2  Al Pacino, Robert Duvall, Diane Keaton, Robert...   \n",
       "3  Christian Bale, Heath Ledger, Aaron Eckhart, M...   \n",
       "4  Martin Balsam, John Fiedler, Lee J. Cobb, E.G....   \n",
       "\n",
       "                                              Awards  Country  \\\n",
       "0  Nominated for 7 Oscars. Another 18 wins & 30 n...      USA   \n",
       "1    Won 3 Oscars. Another 23 wins & 27 nominations.      USA   \n",
       "2    Won 6 Oscars. Another 10 wins & 20 nominations.      USA   \n",
       "3  Won 2 Oscars. Another 146 wins & 142 nominations.  USA, UK   \n",
       "4  Nominated for 3 Oscars. Another 16 wins & 8 no...      USA   \n",
       "\n",
       "               Director                 Genre  \\\n",
       "0        Frank Darabont          Crime, Drama   \n",
       "1  Francis Ford Coppola          Crime, Drama   \n",
       "2  Francis Ford Coppola          Crime, Drama   \n",
       "3     Christopher Nolan  Action, Crime, Drama   \n",
       "4          Sidney Lumet          Crime, Drama   \n",
       "\n",
       "                                     Language  Metascore  \\\n",
       "0                                     English   80.00000   \n",
       "1                     English, Italian, Latin  100.00000   \n",
       "2  English, Italian, Spanish, Latin, Sicilian   80.00000   \n",
       "3                           English, Mandarin   82.00000   \n",
       "4                                     English   79.95122   \n",
       "\n",
       "                                                Plot  \\\n",
       "0  Two imprisoned men bond over a number of years...   \n",
       "1  The aging patriarch of an organized crime dyna...   \n",
       "2  The early life and career of Vito Corleone in ...   \n",
       "3  When the menace known as the Joker wreaks havo...   \n",
       "4  A jury holdout attempts to prevent a miscarria...   \n",
       "\n",
       "                                              Poster     Rated     ...       \\\n",
       "0  https://images-na.ssl-images-amazon.com/images...         R     ...        \n",
       "1  https://images-na.ssl-images-amazon.com/images...         R     ...        \n",
       "2  https://images-na.ssl-images-amazon.com/images...         R     ...        \n",
       "3  https://images-na.ssl-images-amazon.com/images...     PG-13     ...        \n",
       "4  https://images-na.ssl-images-amazon.com/images...  APPROVED     ...        \n",
       "\n",
       "  Response Runtime                     Title   Type  \\\n",
       "0     True     142  The Shawshank Redemption  movie   \n",
       "1     True     175             The Godfather  movie   \n",
       "2     True     202    The Godfather: Part II  movie   \n",
       "3     True     152           The Dark Knight  movie   \n",
       "4     True      96              12 Angry Men  movie   \n",
       "\n",
       "                                              Writer  Year     imdbID  \\\n",
       "0  Stephen King (short story \"Rita Hayworth and S...  1994  tt0111161   \n",
       "1  Mario Puzo (screenplay), Francis Ford Coppola ...  1972  tt0068646   \n",
       "2  Francis Ford Coppola (screenplay), Mario Puzo ...  1974  tt0071562   \n",
       "3  Jonathan Nolan (screenplay), Christopher Nolan...  2008  tt0468569   \n",
       "4  Reginald Rose (story), Reginald Rose (screenplay)  1957  tt0050083   \n",
       "\n",
       "  imdbRating  imdbVotes        Gross  \n",
       "0        9.3    1711064   28341469.0  \n",
       "1        9.2    1177812  134821952.0  \n",
       "2        9.0     807734   57300000.0  \n",
       "3        9.0    1699835  533316061.0  \n",
       "4        8.9     455987   51600000.0  \n",
       "\n",
       "[5 rows x 21 columns]"
      ]
     },
     "execution_count": 33,
     "metadata": {},
     "output_type": "execute_result"
    }
   ],
   "source": [
    "DFmovie.head()"
   ]
  },
  {
   "cell_type": "code",
   "execution_count": 34,
   "metadata": {
    "collapsed": false
   },
   "outputs": [
    {
     "data": {
      "text/plain": [
       "Actors                object\n",
       "Awards                object\n",
       "Country               object\n",
       "Director              object\n",
       "Genre                 object\n",
       "Language              object\n",
       "Metascore            float64\n",
       "Plot                  object\n",
       "Poster                object\n",
       "Rated                 object\n",
       "Released      datetime64[ns]\n",
       "Response              object\n",
       "Runtime                int64\n",
       "Title                 object\n",
       "Type                  object\n",
       "Writer                object\n",
       "Year                   int64\n",
       "imdbID                object\n",
       "imdbRating           float64\n",
       "imdbVotes              int64\n",
       "Gross                float64\n",
       "dtype: object"
      ]
     },
     "execution_count": 34,
     "metadata": {},
     "output_type": "execute_result"
    }
   ],
   "source": [
    "DFmovie.dtypes"
   ]
  },
  {
   "cell_type": "markdown",
   "metadata": {
    "button": false,
    "deletable": true,
    "new_sheet": false,
    "run_control": {
     "read_only": false
    }
   },
   "source": [
    "## 1.e Text vectorization\n",
    "\n",
    "There are several columns in the data that contain a comma separated list of items, for example the Genre column and the Actors column. Let's transform those to binary columns using the count vectorizer from scikit learn.\n",
    "\n",
    "Append these columns to the merged dataframe.\n",
    "\n",
    "**Hint:** In order to get the actors name right, you'll have to modify the `token_pattern` in the `CountVectorizer`."
   ]
  },
  {
   "cell_type": "code",
   "execution_count": 36,
   "metadata": {
    "button": false,
    "collapsed": false,
    "deletable": true,
    "new_sheet": false,
    "run_control": {
     "read_only": false
    }
   },
   "outputs": [
    {
     "data": {
      "text/html": [
       "<div>\n",
       "<table border=\"1\" class=\"dataframe\">\n",
       "  <thead>\n",
       "    <tr style=\"text-align: right;\">\n",
       "      <th></th>\n",
       "      <th>american</th>\n",
       "      <th>boy</th>\n",
       "      <th>child</th>\n",
       "      <th>city</th>\n",
       "      <th>corruption</th>\n",
       "      <th>crime</th>\n",
       "      <th>dead</th>\n",
       "      <th>death</th>\n",
       "      <th>empire</th>\n",
       "      <th>family</th>\n",
       "      <th>...</th>\n",
       "      <th>war</th>\n",
       "      <th>war ii</th>\n",
       "      <th>way</th>\n",
       "      <th>wife</th>\n",
       "      <th>woman</th>\n",
       "      <th>work</th>\n",
       "      <th>world</th>\n",
       "      <th>world war</th>\n",
       "      <th>year</th>\n",
       "      <th>young</th>\n",
       "    </tr>\n",
       "  </thead>\n",
       "  <tbody>\n",
       "    <tr>\n",
       "      <th>0</th>\n",
       "      <td>0</td>\n",
       "      <td>0</td>\n",
       "      <td>0</td>\n",
       "      <td>0</td>\n",
       "      <td>0</td>\n",
       "      <td>0</td>\n",
       "      <td>0</td>\n",
       "      <td>0</td>\n",
       "      <td>0</td>\n",
       "      <td>0</td>\n",
       "      <td>...</td>\n",
       "      <td>0</td>\n",
       "      <td>0</td>\n",
       "      <td>0</td>\n",
       "      <td>0</td>\n",
       "      <td>0</td>\n",
       "      <td>0</td>\n",
       "      <td>0</td>\n",
       "      <td>0</td>\n",
       "      <td>0</td>\n",
       "      <td>0</td>\n",
       "    </tr>\n",
       "    <tr>\n",
       "      <th>1</th>\n",
       "      <td>0</td>\n",
       "      <td>0</td>\n",
       "      <td>0</td>\n",
       "      <td>0</td>\n",
       "      <td>0</td>\n",
       "      <td>1</td>\n",
       "      <td>0</td>\n",
       "      <td>0</td>\n",
       "      <td>1</td>\n",
       "      <td>0</td>\n",
       "      <td>...</td>\n",
       "      <td>0</td>\n",
       "      <td>0</td>\n",
       "      <td>0</td>\n",
       "      <td>0</td>\n",
       "      <td>0</td>\n",
       "      <td>0</td>\n",
       "      <td>0</td>\n",
       "      <td>0</td>\n",
       "      <td>0</td>\n",
       "      <td>0</td>\n",
       "    </tr>\n",
       "    <tr>\n",
       "      <th>2</th>\n",
       "      <td>0</td>\n",
       "      <td>0</td>\n",
       "      <td>0</td>\n",
       "      <td>0</td>\n",
       "      <td>0</td>\n",
       "      <td>1</td>\n",
       "      <td>0</td>\n",
       "      <td>0</td>\n",
       "      <td>0</td>\n",
       "      <td>0</td>\n",
       "      <td>...</td>\n",
       "      <td>0</td>\n",
       "      <td>0</td>\n",
       "      <td>0</td>\n",
       "      <td>0</td>\n",
       "      <td>0</td>\n",
       "      <td>0</td>\n",
       "      <td>0</td>\n",
       "      <td>0</td>\n",
       "      <td>0</td>\n",
       "      <td>0</td>\n",
       "    </tr>\n",
       "    <tr>\n",
       "      <th>3</th>\n",
       "      <td>0</td>\n",
       "      <td>0</td>\n",
       "      <td>0</td>\n",
       "      <td>0</td>\n",
       "      <td>0</td>\n",
       "      <td>0</td>\n",
       "      <td>0</td>\n",
       "      <td>0</td>\n",
       "      <td>0</td>\n",
       "      <td>0</td>\n",
       "      <td>...</td>\n",
       "      <td>0</td>\n",
       "      <td>0</td>\n",
       "      <td>0</td>\n",
       "      <td>0</td>\n",
       "      <td>0</td>\n",
       "      <td>0</td>\n",
       "      <td>0</td>\n",
       "      <td>0</td>\n",
       "      <td>0</td>\n",
       "      <td>0</td>\n",
       "    </tr>\n",
       "    <tr>\n",
       "      <th>4</th>\n",
       "      <td>0</td>\n",
       "      <td>0</td>\n",
       "      <td>0</td>\n",
       "      <td>0</td>\n",
       "      <td>0</td>\n",
       "      <td>0</td>\n",
       "      <td>0</td>\n",
       "      <td>0</td>\n",
       "      <td>0</td>\n",
       "      <td>0</td>\n",
       "      <td>...</td>\n",
       "      <td>0</td>\n",
       "      <td>0</td>\n",
       "      <td>0</td>\n",
       "      <td>0</td>\n",
       "      <td>0</td>\n",
       "      <td>0</td>\n",
       "      <td>0</td>\n",
       "      <td>0</td>\n",
       "      <td>0</td>\n",
       "      <td>0</td>\n",
       "    </tr>\n",
       "  </tbody>\n",
       "</table>\n",
       "<p>5 rows × 50 columns</p>\n",
       "</div>"
      ],
      "text/plain": [
       "   american  boy  child  city  corruption  crime  dead  death  empire  family  \\\n",
       "0         0    0      0     0           0      0     0      0       0       0   \n",
       "1         0    0      0     0           0      1     0      0       1       0   \n",
       "2         0    0      0     0           0      1     0      0       0       0   \n",
       "3         0    0      0     0           0      0     0      0       0       0   \n",
       "4         0    0      0     0           0      0     0      0       0       0   \n",
       "\n",
       "   ...    war  war ii  way  wife  woman  work  world  world war  year  young  \n",
       "0  ...      0       0    0     0      0     0      0          0     0      0  \n",
       "1  ...      0       0    0     0      0     0      0          0     0      0  \n",
       "2  ...      0       0    0     0      0     0      0          0     0      0  \n",
       "3  ...      0       0    0     0      0     0      0          0     0      0  \n",
       "4  ...      0       0    0     0      0     0      0          0     0      0  \n",
       "\n",
       "[5 rows x 50 columns]"
      ]
     },
     "execution_count": 36,
     "metadata": {},
     "output_type": "execute_result"
    }
   ],
   "source": [
    "from sklearn.feature_extraction.text import CountVectorizer\n",
    "\n",
    "v = CountVectorizer(max_features = 50,\n",
    "                             ngram_range=(1, 2),\n",
    "                             stop_words='english',\n",
    "                             binary=True)\n",
    "\n",
    "X_plot = pd.DataFrame(v.fit_transform(DFmovie['Plot']).todense(), columns=v.get_feature_names())\n",
    "X_plot.head()"
   ]
  },
  {
   "cell_type": "code",
   "execution_count": 38,
   "metadata": {
    "collapsed": false
   },
   "outputs": [],
   "source": [
    "v = CountVectorizer(max_features = 100,\n",
    "                             ngram_range=(2, 2),\n",
    "                             stop_words='english',\n",
    "                             binary=True,\n",
    "#                            tokenizer=lambda x: x.split(', '))\n",
    "                             token_pattern='\\\\b\\\\w+\\\\b')\n",
    "\n",
    "X_Actors = pd.DataFrame(v.fit_transform(DFmovie['Actors']).todense(), columns=v.get_feature_names())"
   ]
  },
  {
   "cell_type": "code",
   "execution_count": 40,
   "metadata": {
    "collapsed": false
   },
   "outputs": [],
   "source": [
    "v = CountVectorizer(max_features = 1000,\n",
    "#                              ngram_range=(1, 2),\n",
    "                             stop_words='english',\n",
    "                             binary=True,\n",
    "                             token_pattern=u'(?u)\\\\b\\\\w\\\\w+\\\\b')\n",
    "\n",
    "X_genre = pd.DataFrame(v.fit_transform(DFmovie['Genre']).todense(), columns = v.get_feature_names())"
   ]
  },
  {
   "cell_type": "code",
   "execution_count": 45,
   "metadata": {
    "collapsed": false
   },
   "outputs": [
    {
     "data": {
      "text/plain": [
       "(250, 195)"
      ]
     },
     "execution_count": 45,
     "metadata": {},
     "output_type": "execute_result"
    }
   ],
   "source": [
    "# Merging all the dataframes\n",
    "imdb = pd.concat([DFmovie, X_Actors, X_genre, X_plot], axis=1, join_axes=[DFmovie.index])\n",
    "imdb.shape"
   ]
  },
  {
   "cell_type": "markdown",
   "metadata": {
    "button": false,
    "deletable": true,
    "new_sheet": false,
    "run_control": {
     "read_only": false
    }
   },
   "source": [
    "## Exercise 2: Showing Our Data\n",
    "\n",
    "We did all that hard work. Let's show it to the world! First save your .csv file.\n",
    "\n",
    "```\n",
    "df.to_csv('imdb.csv', sep='\\t', encoding='utf-8')\n",
    "```"
   ]
  },
  {
   "cell_type": "code",
   "execution_count": 46,
   "metadata": {
    "collapsed": true
   },
   "outputs": [],
   "source": [
    "imdb.to_csv('imdbb.csv', sep='\\t', encoding='utf-8')"
   ]
  },
  {
   "cell_type": "markdown",
   "metadata": {
    "button": false,
    "collapsed": false,
    "deletable": true,
    "new_sheet": false,
    "run_control": {
     "read_only": false
    }
   },
   "source": [
    "## 2.a Add model\n",
    "\n",
    "Add a new model to the models.py file in your website folder. It should contain each movie's meta data such as rank, summary, genre, and rating. Here is an example of a movies model.\n",
    "\n",
    "```\n",
    "class TopMovies(models.Model):\n",
    "    name = models.CharField(max_length=200)\n",
    "    rank = models.IntegerField(default=-1)\n",
    "    created = models.DateTimeField(auto_now_add=True, blank=True)\n",
    "```"
   ]
  },
  {
   "cell_type": "markdown",
   "metadata": {
    "run_control": {}
   },
   "source": [
    "## 2.b Add Url\n",
    "Add the following path to your url.py file.\n",
    "\n",
    "```\n",
    "url(r'^imdb/top/$', views.imdb, name='imdb')\n",
    "```"
   ]
  },
  {
   "cell_type": "markdown",
   "metadata": {
    "run_control": {}
   },
   "source": [
    "## 2.c Create View\n",
    "\n",
    "Create your view. Remember you need to name it imdb! Your view should contain the following logic:\n",
    "\n",
    "- If your imdb database has no values in it\n",
    "    - Open up your imdb.csv file and populate the model\n",
    "- Retrieve model and show the data on your webpage"
   ]
  },
  {
   "cell_type": "markdown",
   "metadata": {
    "run_control": {}
   },
   "source": [
    "## 2.d Create Template\n",
    "\n",
    "Link a new template to your view. Your template must do the following things:\n",
    "\n",
    "- Use a table, rows, and columns to organize your data\n",
    "- Have a different background color besides white\n",
    "- Show your image poster links as images"
   ]
  },
  {
   "cell_type": "markdown",
   "metadata": {
    "run_control": {}
   },
   "source": [
    "## 2.e Submit Url\n",
    "\n",
    "Paste your new url below"
   ]
  },
  {
   "cell_type": "markdown",
   "metadata": {
    "collapsed": true,
    "run_control": {}
   },
   "source": [
    "https://protected-basin-78104.herokuapp.com/site/imdb/top"
   ]
  },
  {
   "cell_type": "code",
   "execution_count": null,
   "metadata": {
    "collapsed": true
   },
   "outputs": [],
   "source": []
  }
 ],
 "metadata": {
  "anaconda-cloud": {},
  "kernelspec": {
   "display_name": "Python [conda root]",
   "language": "python",
   "name": "conda-root-py"
  },
  "language_info": {
   "codemirror_mode": {
    "name": "ipython",
    "version": 2
   },
   "file_extension": ".py",
   "mimetype": "text/x-python",
   "name": "python",
   "nbconvert_exporter": "python",
   "pygments_lexer": "ipython2",
   "version": "2.7.12"
  }
 },
 "nbformat": 4,
 "nbformat_minor": 0
}
